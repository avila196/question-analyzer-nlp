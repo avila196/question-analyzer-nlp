{
 "cells": [
  {
   "cell_type": "markdown",
   "metadata": {},
   "source": [
    "## Database creation and cleaning for Stack Overflow dataset\n",
    "#### The current notebook needs the \"posts_stack_overflow.xml\" file inside the raw_dataset folder in order to run properly.\n",
    "The dataset is read, parsed and exported into three CSV files (train, validation and test).\n",
    "It labels the questions based on their \"score\" property between 1 (good) and 0 (bad) question. These labels are calculated given a linear interpolation for all questions in order to get ranges between 0.5 and 5.5 stars. Based on then, every question above 3 starts is labeled as 1 and every question below as 0."
   ]
  },
  {
   "cell_type": "code",
   "execution_count": null,
   "metadata": {
    "id": "-RyrEABkMI5C"
   },
   "outputs": [],
   "source": [
    "# INSTALL LIBRARIES AND DOWNLOAD FILES\n",
    "# !pip install py7zr\n",
    "# !wget https://archive.org/download/stackexchange/electronics.stackexchange.com.7z"
   ]
  },
  {
   "cell_type": "code",
   "execution_count": null,
   "metadata": {
    "id": "Dfa1etblLZux"
   },
   "outputs": [],
   "source": [
    "# UNZIP FILE\n",
    "'''\n",
    "import py7zr\n",
    "print(py7zr.__version__)\n",
    "import py7zr\n",
    "with py7zr.SevenZipFile('/content/electronics.7z', mode='r') as z:\n",
    "    z.extractall(\"/content/data\")\n",
    "'''"
   ]
  },
  {
   "cell_type": "code",
   "execution_count": null,
   "metadata": {
    "id": "K5kNMzmR4I2a"
   },
   "outputs": [],
   "source": [
    "#Parse XML to CSV (cleaning data)\n",
    "import xml.etree.ElementTree as ET\n",
    "import csv\n",
    "import random\n",
    "import numpy as np\n",
    "import matplotlib.pyplot as plt\n",
    "import random\n",
    "import re"
   ]
  },
  {
   "cell_type": "code",
   "execution_count": null,
   "metadata": {
    "id": "iE4x0UJ34PgX"
   },
   "outputs": [],
   "source": [
    "#Find stars for given score\n",
    "class Scores:\n",
    "    def __init__(self):\n",
    "        #------------------------------\n",
    "        self.min_star = 0.5\n",
    "        self.max_star = 5.5\n",
    "        #------------------------------\n",
    "        self.total_scores = 0\n",
    "        self.scores_counts = {}\n",
    "\n",
    "    def append(self, likes):\n",
    "        #append user likes values\n",
    "        self.scores_counts[likes] = self.scores_counts.get(likes,0)+1\n",
    "        self.total_scores +=1\n",
    "\n",
    "    def process(self):\n",
    "        # orders scores and find value ranges\n",
    "        # call before trying to score something\n",
    "        self.processed_already = True\n",
    "        self.keys = list(self.scores_counts.keys())\n",
    "        self.keys.sort()\n",
    "        \n",
    "        partial_count = 0\n",
    "        total_count = sum([count for count in self.scores_counts.values()])\n",
    "        self.stars = {}\n",
    "        for k in self.keys:\n",
    "            self.stars[k] = self.min_star + ((partial_count+0.5*self.scores_counts[k])/total_count)*(self.max_star - self.min_star)\n",
    "            partial_count += self.scores_counts[k]\n",
    "        \n",
    "    def get_star(self, likes):\n",
    "        if likes in self.stars:\n",
    "            return self.stars[likes]\n",
    "        \n",
    "        for k in self.keys:\n",
    "            if k>likes:\n",
    "                return self.stars[k]\n",
    "        return self.max_star\n",
    "       \n"
   ]
  },
  {
   "cell_type": "code",
   "execution_count": null,
   "metadata": {
    "id": "880YJ1JS4SP6"
   },
   "outputs": [],
   "source": [
    "data_size = 20094655\n",
    "# scores = Scores()\n",
    "scores = {str(year):Scores() for year in range(2010,2019+1)}\n",
    "i = 0\n",
    "for event, elem in ET.iterparse(\"../raw_dataset/posts_stackoverflow.xml\"):\n",
    "      #Add score if type is question\n",
    "    if elem.tag == \"row\" and event == \"end\" and elem.attrib[\"PostTypeId\"] == \"1\":\n",
    "        year = str(elem.attrib[\"CreationDate\"]).split(\"T\")[0].split(\"-\")[0]\n",
    "        if int(year)>=2020:\n",
    "            break\n",
    "        if int(year)>=2010:\n",
    "            scores[year].append(int(elem.attrib[\"Score\"]))\n",
    "            i += 1\n",
    "    elem.clear()\n",
    "    if i % 1000000 == 0 and i>0:\n",
    "        print(i)\n",
    "    if i == data_size:\n",
    "        break\n",
    "\n",
    "# scores.process()\n",
    "print(\"Processing scores...\")\n",
    "for scorer in scores.values():\n",
    "    scorer.process()\n"
   ]
  },
  {
   "cell_type": "code",
   "execution_count": null,
   "metadata": {
    "id": "oiGFT_f24YHq"
   },
   "outputs": [],
   "source": [
    "for k in scores[\"2019\"].keys:\n",
    "    print(k,\":\",scores[\"2019\"].scores_counts[k], scores[\"2019\"].get_star(k))\n",
    "\n",
    "print(\"test other value:\", scores[\"2019\"].get_star(1))\n",
    "print(\"test other value:\", scores[\"2019\"].get_star(13000))\n",
    "\n",
    "stars = []\n",
    "for k in scores[\"2019\"].keys:\n",
    "    star = scores[\"2019\"].get_star(k)\n",
    "    for c in range(scores[\"2019\"].scores_counts[k]):\n",
    "        stars.append(star)\n",
    "\n",
    "\n",
    "plt.hist(stars)\n",
    "plt.show()"
   ]
  },
  {
   "cell_type": "code",
   "execution_count": null,
   "metadata": {
    "id": "XMQyI7CtgVGM"
   },
   "outputs": [],
   "source": [
    "data_size = 20094655\n",
    "data_split = 30000\n",
    "\n",
    "idx_val = set(random.sample(range(data_split),int(data_split*0.05)))\n",
    "idx_test = set()\n",
    "for i in range(int(data_split*0.05)):\n",
    "    n = random.randint(0, data_split-1)\n",
    "    while n in idx_val or n in idx_test:\n",
    "        n = random.randint(0, data_split-1)\n",
    "    idx_test.add(n)\n",
    "print(len(idx_test))\n",
    "print(len(idx_val))\n",
    "print(len(idx_test.intersection(idx_val)))\n",
    "z = np.zeros(data_split)\n",
    "z[list(idx_test)] = 1\n",
    "z[list(idx_val)] = 2\n",
    "print(np.count_nonzero(z == 0))\n",
    "print(np.count_nonzero(z == 1))\n",
    "print(np.count_nonzero(z == 2))"
   ]
  },
  {
   "cell_type": "code",
   "execution_count": null,
   "metadata": {
    "colab": {
     "base_uri": "https://localhost:8080/",
     "height": 346
    },
    "id": "tpkp1ks7Gg-L",
    "outputId": "07710da0-4c2d-4230-be83-76e96f3fa2c8"
   },
   "outputs": [
    {
     "ename": "FileNotFoundError",
     "evalue": "ignored",
     "output_type": "error",
     "traceback": [
      "\u001b[0;31m---------------------------------------------------------------------------\u001b[0m",
      "\u001b[0;31mFileNotFoundError\u001b[0m                         Traceback (most recent call last)",
      "\u001b[0;32m<ipython-input-2-5a661d9888b8>\u001b[0m in \u001b[0;36m<module>\u001b[0;34m()\u001b[0m\n\u001b[1;32m     26\u001b[0m             \u001b[0mdata_writer_val\u001b[0m\u001b[0;34m.\u001b[0m\u001b[0mwriterow\u001b[0m\u001b[0;34m(\u001b[0m\u001b[0;34m[\u001b[0m\u001b[0;34m\"stars\"\u001b[0m\u001b[0;34m,\u001b[0m\u001b[0;34m\"title\"\u001b[0m\u001b[0;34m,\u001b[0m\u001b[0;34m\"tags\"\u001b[0m\u001b[0;34m,\u001b[0m\u001b[0;34m\"score\"\u001b[0m\u001b[0;34m,\u001b[0m\u001b[0;34m\"creation_date\"\u001b[0m\u001b[0;34m]\u001b[0m\u001b[0;34m)\u001b[0m \u001b[0;31m#write headers\u001b[0m\u001b[0;34m\u001b[0m\u001b[0;34m\u001b[0m\u001b[0m\n\u001b[1;32m     27\u001b[0m             \u001b[0;31m#Loop to iterate through every element on the XML file\u001b[0m\u001b[0;34m\u001b[0m\u001b[0;34m\u001b[0m\u001b[0;34m\u001b[0m\u001b[0m\n\u001b[0;32m---> 28\u001b[0;31m             \u001b[0;32mfor\u001b[0m \u001b[0mevent\u001b[0m\u001b[0;34m,\u001b[0m \u001b[0melem\u001b[0m \u001b[0;32min\u001b[0m \u001b[0mET\u001b[0m\u001b[0;34m.\u001b[0m\u001b[0miterparse\u001b[0m\u001b[0;34m(\u001b[0m\u001b[0;34m\"Posts.xml\"\u001b[0m\u001b[0;34m)\u001b[0m\u001b[0;34m:\u001b[0m\u001b[0;34m\u001b[0m\u001b[0;34m\u001b[0m\u001b[0m\n\u001b[0m\u001b[1;32m     29\u001b[0m                 \u001b[0;31m#Write row if tag is row and post type is 1 (meaning it is a question)\u001b[0m\u001b[0;34m\u001b[0m\u001b[0;34m\u001b[0m\u001b[0;34m\u001b[0m\u001b[0m\n\u001b[1;32m     30\u001b[0m                 \u001b[0;32mif\u001b[0m \u001b[0melem\u001b[0m\u001b[0;34m.\u001b[0m\u001b[0mtag\u001b[0m \u001b[0;34m==\u001b[0m \u001b[0;34m\"row\"\u001b[0m \u001b[0;32mand\u001b[0m \u001b[0mevent\u001b[0m \u001b[0;34m==\u001b[0m \u001b[0;34m\"end\"\u001b[0m \u001b[0;32mand\u001b[0m \u001b[0melem\u001b[0m\u001b[0;34m.\u001b[0m\u001b[0mattrib\u001b[0m\u001b[0;34m[\u001b[0m\u001b[0;34m\"PostTypeId\"\u001b[0m\u001b[0;34m]\u001b[0m \u001b[0;34m==\u001b[0m \u001b[0;34m\"1\"\u001b[0m\u001b[0;34m:\u001b[0m\u001b[0;34m\u001b[0m\u001b[0;34m\u001b[0m\u001b[0m\n",
      "\u001b[0;32m/usr/lib/python3.6/xml/etree/ElementTree.py\u001b[0m in \u001b[0;36miterparse\u001b[0;34m(source, events, parser)\u001b[0m\n\u001b[1;32m   1240\u001b[0m     \u001b[0mclose_source\u001b[0m \u001b[0;34m=\u001b[0m \u001b[0;32mFalse\u001b[0m\u001b[0;34m\u001b[0m\u001b[0;34m\u001b[0m\u001b[0m\n\u001b[1;32m   1241\u001b[0m     \u001b[0;32mif\u001b[0m \u001b[0;32mnot\u001b[0m \u001b[0mhasattr\u001b[0m\u001b[0;34m(\u001b[0m\u001b[0msource\u001b[0m\u001b[0;34m,\u001b[0m \u001b[0;34m\"read\"\u001b[0m\u001b[0;34m)\u001b[0m\u001b[0;34m:\u001b[0m\u001b[0;34m\u001b[0m\u001b[0;34m\u001b[0m\u001b[0m\n\u001b[0;32m-> 1242\u001b[0;31m         \u001b[0msource\u001b[0m \u001b[0;34m=\u001b[0m \u001b[0mopen\u001b[0m\u001b[0;34m(\u001b[0m\u001b[0msource\u001b[0m\u001b[0;34m,\u001b[0m \u001b[0;34m\"rb\"\u001b[0m\u001b[0;34m)\u001b[0m\u001b[0;34m\u001b[0m\u001b[0;34m\u001b[0m\u001b[0m\n\u001b[0m\u001b[1;32m   1243\u001b[0m         \u001b[0mclose_source\u001b[0m \u001b[0;34m=\u001b[0m \u001b[0;32mTrue\u001b[0m\u001b[0;34m\u001b[0m\u001b[0;34m\u001b[0m\u001b[0m\n\u001b[1;32m   1244\u001b[0m \u001b[0;34m\u001b[0m\u001b[0m\n",
      "\u001b[0;31mFileNotFoundError\u001b[0m: [Errno 2] No such file or directory: 'Posts.xml'"
     ]
    }
   ],
   "source": [
    "#Parse XML to CSV (cleaning data)\n",
    "\n",
    "#Creates list of tags given the string\n",
    "def createTags(tags):\n",
    "    return \"|\".join(tags[1:-1].split(\"><\"))\n",
    "\n",
    "#Clean sentence (remove non alpha chars)\n",
    "def cleanSentence(sentence):\n",
    "    p = re.compile(r'<.*?>')\n",
    "    sentence = p.sub('', sentence) \n",
    "    sentence = ''.join([(i.lower() if i.isalpha() else \" \") for i in sentence if i.isalpha() or i == \" \" or i == \"-\"])\n",
    "    # sentence = ''.join([i.lower() if i.isalpha() else \" \" if (i==\" \" or i==\"-\" or i==\"_\") else \"\" for i in sentence])\n",
    "    return sentence\n",
    "\n",
    "#Opens CSV file to write parsed rows\n",
    "i, j = 0, 0\n",
    "with open('../processed_files/data_stackoverflow_train.csv', mode='w', newline='',encoding=\"utf8\", buffering=1) as data_file:\n",
    "    with open('../processed_files/data_stackoverflow_test.csv', mode='w', newline='',encoding=\"utf8\", buffering=1) as data_file_test:\n",
    "        with open('../processed_files/data_stackoverflow_val.csv', mode='w', newline='',encoding=\"utf8\", buffering=1) as data_file_val:\n",
    "            #Headers for train\n",
    "            data_writer = csv.writer(data_file, delimiter=',', quotechar='\"', quoting=csv.QUOTE_MINIMAL)\n",
    "            data_writer.writerow([\"stars\",\"title\",\"tags\",\"score\",\"creation_date\"]) #write headers\n",
    "            #Headers for test\n",
    "            data_writer_test = csv.writer(data_file_test, delimiter=',', quotechar='\"', quoting=csv.QUOTE_MINIMAL)\n",
    "            data_writer_test.writerow([\"stars\",\"title\",\"tags\",\"score\",\"creation_date\"]) #write headers\n",
    "            #Headers for val\n",
    "            data_writer_val = csv.writer(data_file_val, delimiter=',', quotechar='\"', quoting=csv.QUOTE_MINIMAL)\n",
    "            data_writer_val.writerow([\"stars\",\"title\",\"tags\",\"score\",\"creation_date\"]) #write headers\n",
    "            #Loop to iterate through every element on the XML file\n",
    "            for event, elem in ET.iterparse(\"Posts.xml\"):\n",
    "                #Write row if tag is row and post type is 1 (meaning it is a question)\n",
    "                if elem.tag == \"row\" and event == \"end\" and elem.attrib[\"PostTypeId\"] == \"1\":\n",
    "                    year = str(elem.attrib[\"CreationDate\"]).split(\"T\")[0].split(\"-\")[0]\n",
    "                    if int(year)>=2020:\n",
    "                        break\n",
    "                    if int(year)>=2010:\n",
    "                        if i % 650 == 0:\n",
    "                            score = int(elem.attrib[\"Score\"])\n",
    "                            if j in idx_test:\n",
    "                                data_writer_test.writerow([scores[year].get_star(score),cleanSentence(elem.attrib[\"Title\"]),createTags(elem.attrib[\"Tags\"].lower()),elem.attrib[\"Score\"],elem.attrib[\"CreationDate\"]])\n",
    "                            elif j in idx_val:\n",
    "                                data_writer_val.writerow([scores[year].get_star(score),cleanSentence(elem.attrib[\"Title\"]),createTags(elem.attrib[\"Tags\"].lower()),elem.attrib[\"Score\"],elem.attrib[\"CreationDate\"]])\n",
    "                            else:\n",
    "                                data_writer.writerow([scores[year].get_star(score),cleanSentence(elem.attrib[\"Title\"]),createTags(elem.attrib[\"Tags\"].lower()),elem.attrib[\"Score\"],elem.attrib[\"CreationDate\"]])  \n",
    "                            j += 1\n",
    "                    i += 1\n",
    "                elem.clear()\n",
    "                if i%1000000==0:\n",
    "                    print(i)\n",
    "                if j == data_split:\n",
    "                    break\n"
   ]
  },
  {
   "cell_type": "code",
   "execution_count": null,
   "metadata": {
    "id": "Xg7irEE_UX8v"
   },
   "outputs": [],
   "source": [
    "#Find stars for given score\n",
    "def stars(score, ranges):\n",
    "    if score < ranges[0]:\n",
    "        return 1\n",
    "    elif score < ranges[1]:\n",
    "        return 2\n",
    "    elif score < ranges[2]:\n",
    "        return 3\n",
    "    elif score < ranges[3]:\n",
    "        return 4\n",
    "    else:\n",
    "        return 5\n",
    "\n",
    "#Create array with all scores\n",
    "scores = []\n",
    "i = 0\n",
    "for event, elem in ET.iterparse(\"Posts.xml\"):\n",
    "      #Add score if type is question\n",
    "      if elem.tag == \"row\" and event == \"end\" and elem.attrib[\"PostTypeId\"] == \"1\":\n",
    "          scores.append(int(elem.attrib[\"Score\"]))\n",
    "          i += 1\n",
    "      elem.clear()\n",
    "      if i == data_size:\n",
    "          break\n",
    "#Sort the list of scores\n",
    "scores.sort()\n",
    "l = len(scores)\n",
    "ranges = [scores[int(0.2*l)], scores[int(0.4*l)], scores[int(0.6*l)], scores[int(0.8*l)]]"
   ]
  },
  {
   "cell_type": "markdown",
   "metadata": {
    "id": "-QaxRuVxIfgL"
   },
   "source": [
    "# New section"
   ]
  }
 ],
 "metadata": {
  "colab": {
   "collapsed_sections": [],
   "name": "database_creation.ipynb",
   "provenance": [],
   "toc_visible": true
  },
  "kernelspec": {
   "display_name": "Python 3",
   "language": "python",
   "name": "python3"
  },
  "language_info": {
   "codemirror_mode": {
    "name": "ipython",
    "version": 3
   },
   "file_extension": ".py",
   "mimetype": "text/x-python",
   "name": "python",
   "nbconvert_exporter": "python",
   "pygments_lexer": "ipython3",
   "version": "3.7.9"
  }
 },
 "nbformat": 4,
 "nbformat_minor": 1
}
