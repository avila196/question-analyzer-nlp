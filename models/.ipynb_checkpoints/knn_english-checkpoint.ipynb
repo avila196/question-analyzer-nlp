{
 "cells": [
  {
   "cell_type": "markdown",
   "metadata": {},
   "source": [
    "## k-nearest neighbors regression - English Dataset\n",
    "The present notebook does the next:\n",
    "  * Find the embeddings for the questions using a pre-trained Bert Model\n",
    "  * Find the k-nearest neighbors of a given query question\n",
    "  * Predict the output for the query question using the k-nearest neighbors\n",
    "  * Choose the best value of k using a validation set"
   ]
  },
  {
   "cell_type": "markdown",
   "metadata": {},
   "source": [
    "### Imports needed"
   ]
  },
  {
   "cell_type": "code",
   "execution_count": 35,
   "metadata": {},
   "outputs": [
    {
     "name": "stdout",
     "output_type": "stream",
     "text": [
      "TensorFlow Version: 2.3.1\n",
      "Numpy Version: 1.18.5\n",
      "Default GPU Device:/device:GPU:0\n"
     ]
    }
   ],
   "source": [
    "#Imports for model\n",
    "from os import path\n",
    "import numpy as np\n",
    "import pandas as pd\n",
    "import tensorflow as tf\n",
    "import os\n",
    "import csv\n",
    "import re\n",
    "from tensorflow import keras\n",
    "from sentence_transformers import SentenceTransformer\n",
    "\n",
    "#Import GloVe model\n",
    "from glove import Glove\n",
    "\n",
    "print(\"TensorFlow Version: \"+tf.__version__)\n",
    "print(\"Numpy Version: \"+np.__version__)\n",
    "if tf.test.gpu_device_name(): \n",
    "    print('Default GPU Device:{}'.format(tf.test.gpu_device_name()))\n",
    "else:\n",
    "    print(\"GPU not found. Please install GPU version of TF if needed\")"
   ]
  },
  {
   "cell_type": "markdown",
   "metadata": {},
   "source": [
    "### Load Data"
   ]
  },
  {
   "cell_type": "code",
   "execution_count": 36,
   "metadata": {},
   "outputs": [],
   "source": [
    "#Download and prepare the Pre-trained GloVe Word Embedding model\n",
    "path_to_glove_zipfile = \"../processed_files/glove.42B.300d.zip\"\n",
    "path_to_glove_file = \"../processed_files/glove.42B.300d.txt\"\n",
    "\n",
    "if not path.exists(path_to_glove_file):\n",
    "    if not path.exists(path_to_glove_zipfile):\n",
    "        print(\"downloading glove .zip file...\")\n",
    "        !wget http://nlp.stanford.edu/data/glove.42B.300d.zip\n",
    "    print(\"unzipping glove .zip file...\")\n",
    "    !unzip -q glove.42B.300d.zip"
   ]
  },
  {
   "cell_type": "code",
   "execution_count": 37,
   "metadata": {},
   "outputs": [],
   "source": [
    "#Create instance Sentence Embedding\n",
    "model = SentenceTransformer('bert-base-nli-mean-tokens')"
   ]
  },
  {
   "cell_type": "code",
   "execution_count": 38,
   "metadata": {},
   "outputs": [
    {
     "name": "stdout",
     "output_type": "stream",
     "text": [
      "(2, 768)\n"
     ]
    }
   ],
   "source": [
    "#Check some word vector representations\n",
    "query1 = \"let me code!\"\n",
    "query2 = \"yes I want to launch\"\n",
    "query_vec = model.encode([query1, query2])\n",
    "print(query_vec.shape)"
   ]
  },
  {
   "cell_type": "code",
   "execution_count": 39,
   "metadata": {},
   "outputs": [],
   "source": [
    "#Sentence to sequence vectors\n",
    "def convert_to_vec(sentence):\n",
    "    vec = model.encode([sentence])[0]\n",
    "    return vec\n",
    "\n",
    "#Read CSV and fill up given matrix for embeddings and labels\n",
    "questions = []\n",
    "def read_and_parse(file_path, input_size=float(\"inf\"), read_embeddings=True, read_labels=True, training=False):\n",
    "    matrix = []\n",
    "    labels = []\n",
    "    with open(file_path, \"r\", encoding=\"utf-8\") as f:\n",
    "        reader = csv.DictReader(f, delimiter=\",\")\n",
    "        i = 0\n",
    "        for row in reader:\n",
    "            question = row[\"title\"]\n",
    "            if training:\n",
    "                questions.append(question)\n",
    "            if read_embeddings:\n",
    "                vec = convert_to_vec(question)\n",
    "                matrix.append(vec)\n",
    "            if read_labels:\n",
    "                labels.append(float(row[\"stars\"]))\n",
    "            i += 1\n",
    "            if i % 1000 == 0:\n",
    "                print(str(i//1000)+\"k, \", end=\"\")\n",
    "                if i % 20000 == 0:\n",
    "                    print()\n",
    "            if i == input_size:\n",
    "                break\n",
    "    print()\n",
    "    return np.array(matrix), np.array(labels)"
   ]
  },
  {
   "cell_type": "code",
   "execution_count": 40,
   "metadata": {},
   "outputs": [],
   "source": [
    "#Parameters for inputs\n",
    "VEC_DIM = 768\n",
    "#INPUT_SIZE_TRAIN = 97528\n",
    "#INPUT_SIZE_TEST = 5418\n",
    "INPUT_SIZE_TRAIN = 80000\n",
    "INPUT_SIZE_TEST = 4000\n",
    "INPUT_SIZE_VAL = 4000\n",
    "INPUT_FILE_TRAIN = \"../processed_files/english_train.csv\"\n",
    "INPUT_FILE_TEST = \"../processed_files/english_test.csv\"\n",
    "INPUT_FILE_VAL = \"../processed_files/english_val.csv\"\n",
    "PATH_EMBED_TRAIN = \"../processed_files/bert/bert_embed_train.txt\"\n",
    "PATH_EMBED_TEST = \"../processed_files/bert/bert_embed_test.txt\"\n",
    "PATH_EMBED_VAL = \"../processed_files/bert/bert_embed_val.txt\""
   ]
  },
  {
   "cell_type": "code",
   "execution_count": 43,
   "metadata": {},
   "outputs": [
    {
     "name": "stdout",
     "output_type": "stream",
     "text": [
      "Embeddings already exist. Importing from files...\n",
      "Importing train embeddings...\n",
      "1k, 2k, 3k, 4k, 5k, 6k, 7k, 8k, 9k, 10k, 11k, 12k, 13k, 14k, 15k, 16k, 17k, 18k, 19k, 20k, \n",
      "21k, 22k, 23k, 24k, 25k, 26k, 27k, 28k, 29k, 30k, 31k, 32k, 33k, 34k, 35k, 36k, 37k, 38k, 39k, 40k, \n",
      "41k, 42k, 43k, 44k, 45k, 46k, 47k, 48k, 49k, 50k, 51k, 52k, 53k, 54k, 55k, 56k, 57k, 58k, 59k, 60k, \n",
      "61k, 62k, 63k, 64k, 65k, 66k, 67k, 68k, 69k, 70k, 71k, 72k, 73k, 74k, 75k, 76k, 77k, 78k, 79k, 80k, \n",
      "\n",
      "Importing test embeddings...\n",
      "1k, 2k, 3k, 4k, \n",
      "Importing val embeddings...\n",
      "1k, 2k, 3k, 4k, \n"
     ]
    }
   ],
   "source": [
    "#Read and create all sentence Embeddings!\n",
    "\n",
    "if not path.exists(PATH_EMBED_TRAIN) or not path.exists(PATH_EMBED_TEST) or not path.exists(PATH_EMBED_VAL):\n",
    "    #Read CSV for training\n",
    "    print(\"Parsing train file...\")\n",
    "    input_sequences_train, labels_train = read_and_parse(INPUT_FILE_TRAIN, INPUT_SIZE_TRAIN, training=True)\n",
    "\n",
    "    #Read CSV and create input matrix for testing\n",
    "    print(\"Parsing test file...\")\n",
    "    input_sequences_test, labels_test = read_and_parse(INPUT_FILE_TEST, INPUT_SIZE_TEST)\n",
    "\n",
    "    #Read CSV and create input matrix for validation\n",
    "    print(\"Parsing validation file...\")\n",
    "    input_sequences_val, labels_val = read_and_parse(INPUT_FILE_VAL, INPUT_SIZE_VAL)\n",
    "    \n",
    "else:\n",
    "    print(\"Embeddings already exist. Importing from files...\")\n",
    "    #Read Train Embeddings\n",
    "    print(\"Importing train embeddings...\")\n",
    "    input_sequences_train = np.loadtxt(PATH_EMBED_TRAIN).reshape(INPUT_SIZE_TRAIN, VEC_DIM)\n",
    "    _, labels_train = read_and_parse(INPUT_FILE_TRAIN, INPUT_SIZE_TRAIN, read_embeddings=False, training=True)\n",
    "    \n",
    "    #Read Test Embeddings\n",
    "    print(\"Importing test embeddings...\")\n",
    "    input_sequences_test = np.loadtxt(PATH_EMBED_TEST).reshape(INPUT_SIZE_TEST, VEC_DIM)\n",
    "    _, labels_test = read_and_parse(INPUT_FILE_TEST, INPUT_SIZE_TEST, read_embeddings=False)\n",
    "    \n",
    "    #Read Test Embeddings\n",
    "    print(\"Importing val embeddings...\")\n",
    "    input_sequences_val = np.loadtxt(PATH_EMBED_VAL).reshape(INPUT_SIZE_VAL, VEC_DIM)\n",
    "    _, labels_val = read_and_parse(INPUT_FILE_VAL, INPUT_SIZE_VAL, read_embeddings=False)\n",
    "\n",
    "#Convert questions into numpy array\n",
    "questions = np.array(questions)\n",
    "    "
   ]
  },
  {
   "cell_type": "code",
   "execution_count": 19,
   "metadata": {},
   "outputs": [
    {
     "name": "stdout",
     "output_type": "stream",
     "text": [
      "Exporting train...\n",
      "1k, 2k, 3k, 4k, 5k, 6k, 7k, 8k, 9k, 10k, 11k, 12k, 13k, 14k, 15k, 16k, 17k, 18k, 19k, 20k, \n",
      "21k, 22k, 23k, 24k, 25k, 26k, 27k, 28k, 29k, 30k, 31k, 32k, 33k, 34k, 35k, 36k, 37k, 38k, 39k, 40k, \n",
      "41k, 42k, 43k, 44k, 45k, 46k, 47k, 48k, 49k, 50k, 51k, 52k, 53k, 54k, 55k, 56k, 57k, 58k, 59k, 60k, \n",
      "61k, 62k, 63k, 64k, 65k, 66k, 67k, 68k, 69k, 70k, 71k, 72k, 73k, 74k, 75k, 76k, 77k, 78k, 79k, 80k, \n",
      "\n",
      "Exporting test...\n",
      "1k, 2k, 3k, 4k, \n",
      "Exporting val...\n",
      "1k, 2k, 3k, 4k, \n"
     ]
    }
   ],
   "source": [
    "#Export embeddings into txt files\n",
    "\n",
    "def export_numpy(filename, data):\n",
    "    with open(filename, \"w\") as f:\n",
    "        for i,row in enumerate(data,1):\n",
    "            np.savetxt(f, row)\n",
    "            if i % 1000 == 0:\n",
    "                print(str(i//1000)+\"k, \", end=\"\")\n",
    "                if i % 20000 == 0:\n",
    "                    print()\n",
    "        print()\n",
    "\n",
    "#Export train data\n",
    "print(\"Exporting train...\")\n",
    "export_numpy(PATH_EMBED_TRAIN, input_sequences_train)\n",
    "\n",
    "#Export test data\n",
    "print(\"Exporting test...\")\n",
    "export_numpy(PATH_EMBED_TEST, input_sequences_test)\n",
    "\n",
    "#Export val data\n",
    "print(\"Exporting val...\")\n",
    "export_numpy(PATH_EMBED_VAL, input_sequences_val)"
   ]
  },
  {
   "cell_type": "code",
   "execution_count": 44,
   "metadata": {},
   "outputs": [
    {
     "name": "stdout",
     "output_type": "stream",
     "text": [
      "input shape: (80000, 768)\n",
      "labels train: (80000,)\n",
      "trues over all on training: 0.50835\n"
     ]
    }
   ],
   "source": [
    "#Some prints to check expected results\n",
    "print(\"input shape:\",input_sequences_train.shape)\n",
    "print(\"labels train:\",labels_train.shape)\n",
    "#print(\"input shape:\",input_sequences_test.shape)\n",
    "#print(\"labels train:\",labels_test.shape)\n",
    "#labels_train[0]\n",
    "print(\"trues over all on training:\", sum(labels_train)/len(labels_train))"
   ]
  },
  {
   "cell_type": "code",
   "execution_count": 45,
   "metadata": {},
   "outputs": [
    {
     "name": "stdout",
     "output_type": "stream",
     "text": [
      "trues over all on training: 0.50835\n"
     ]
    }
   ],
   "source": [
    "#Shuffle train data\n",
    "idx = np.random.choice(range(INPUT_SIZE_TRAIN), INPUT_SIZE_TRAIN, replace=False)\n",
    "input_sequences_train = input_sequences_train[idx]\n",
    "labels_train = labels_train[idx]\n",
    "questions = questions[idx]\n",
    "\n",
    "#Shuffle test data\n",
    "idx = np.random.choice(range(INPUT_SIZE_TEST), INPUT_SIZE_TEST, replace=False)\n",
    "input_sequences_test = input_sequences_test[idx]\n",
    "labels_test = labels_test[idx]\n",
    "\n",
    "#Shuffle val data\n",
    "idx = np.random.choice(range(INPUT_SIZE_VAL), INPUT_SIZE_VAL, replace=False)\n",
    "input_sequences_val = input_sequences_val[idx]\n",
    "labels_val = labels_val[idx]\n",
    "\n",
    "print(\"trues over all on training:\", sum(labels_train)/len(labels_train)) #to validate the result is the same"
   ]
  },
  {
   "cell_type": "markdown",
   "metadata": {},
   "source": [
    "### Functions and k-NN model"
   ]
  },
  {
   "cell_type": "code",
   "execution_count": 46,
   "metadata": {},
   "outputs": [],
   "source": [
    "#Function that compute the distances of all embeddings with a single question query\n",
    "def k_nearest_neighbors(sentences, query_vec, k=5):\n",
    "    #Normalize input query vector\n",
    "    query_vec = query_vec / np.linalg.norm(query_vec)\n",
    "    #Find the cosine similarity between all sentences and query sentence\n",
    "    norm_sentences = np.linalg.norm(sentences, axis=1)\n",
    "    dot_product = np.dot(sentences, query_vec)\n",
    "    cosine_sims = dot_product / norm_sentences\n",
    "    #Sort the similarities and return the top K of them\n",
    "    return np.argsort(cosine_sims)[::-1][:k]"
   ]
  },
  {
   "cell_type": "code",
   "execution_count": 48,
   "metadata": {},
   "outputs": [
    {
     "name": "stdout",
     "output_type": "stream",
     "text": [
      "[48602 45801 35191 14065 37333]\n",
      "everybody knows that  vs everyone knows that \n"
     ]
    }
   ],
   "source": [
    "#Test for some distances between vectors\n",
    "query_sent = \"every bode knows that everybody\"\n",
    "query_vec =  model.encode([query_sent])[0]\n",
    "knn = k_nearest_neighbors(input_sequences_train, query_vec)\n",
    "print(knn)\n",
    "print(questions[knn[0]])"
   ]
  },
  {
   "cell_type": "code",
   "execution_count": 49,
   "metadata": {},
   "outputs": [],
   "source": [
    "#Clean sentence (remove non alpha chars)\n",
    "def clean_sentence(sentence):\n",
    "    p = re.compile(r'<.*?>')\n",
    "    sentence = p.sub('', sentence) \n",
    "    sentence = ''.join([(i.lower() if i.isalpha() else \" \") for i in sentence if i.isalpha() or i == \" \" or i == \"-\"])\n",
    "    return sentence"
   ]
  },
  {
   "cell_type": "markdown",
   "metadata": {},
   "source": [
    "### Predictions of new questions and scores!"
   ]
  },
  {
   "cell_type": "code",
   "execution_count": 50,
   "metadata": {},
   "outputs": [],
   "source": [
    "#Function that estimates the final score and gives recommendations for a query question and the input sentences\n",
    "def predict(query_sent, encoded=False, k=5, sentences_vecs=input_sequences_train, labels=labels_train, questions=questions):\n",
    "    #We first clean the given sentence and encode it (if needed)\n",
    "    if not encoded:\n",
    "        query_sent = clean_sentence(query_sent)\n",
    "        query =  model.encode([query_sent])[0]\n",
    "    else:\n",
    "        query = query_sent\n",
    "    #Then, we get the k-NN for query\n",
    "    knn = k_nearest_neighbors(sentences_vecs, query, k)\n",
    "    #With these indices, we find the mean score and we use it as our final prediction. As a special case, if the exact\n",
    "    #question was entered, then the first index should match it, so we consider its score directly\n",
    "    if (not encoded and questions[knn[0]] == query_sent) or (encoded and np.all(sentences_vecs[knn[0]] == query)):\n",
    "        score = labels[knn[0]]\n",
    "    else:\n",
    "        score = np.mean(labels[knn])\n",
    "    #Now, the final prediction is \"Good question\" if score >= 0.5, \"Bad question\" otherwise\n",
    "    pred = \"Good Question (above the median)\" if score >= 0.5 else \"Bad Question (below the meadian)\"\n",
    "    #Now, to recommend similar questions, we take the first two most similar questions (non equal)\n",
    "    if (not encoded and questions[knn[0]] == query_sent) or (encoded and np.all(sentences_vecs[knn[0]] == query)):\n",
    "        knn = knn[1:]\n",
    "    recommendations = (questions[knn[0]], questions[knn[1]])\n",
    "    return score, pred, recommendations"
   ]
  },
  {
   "cell_type": "code",
   "execution_count": 51,
   "metadata": {},
   "outputs": [
    {
     "name": "stdout",
     "output_type": "stream",
     "text": [
      "(0.4, 'Bad Question (below the meadian)', ('best term in worldwide english for a monthly cost', 'which season do you like better  best spring or winter'))\n",
      "(1.0, 'Good Question (above the median)', ('the case of yall', 'seemed or seems'))\n",
      "(1.0, 'Good Question (above the median)', ('that represents vs representing', 'describe with vs describe by'))\n",
      "as follows vs as the following\n"
     ]
    }
   ],
   "source": [
    "#Test for some predictions\n",
    "print(predict(\"what's the best time of the year to ski\"))\n",
    "print(predict(\"yall or yall\"))\n",
    "print(predict(input_sequences_train[0], encoded=True))\n",
    "print(questions[0])"
   ]
  },
  {
   "cell_type": "code",
   "execution_count": 58,
   "metadata": {},
   "outputs": [],
   "source": [
    "#Test accuracy on test set\n",
    "def test_accuracy(sentences_vecs, labels):\n",
    "    correctly_predicted = 0\n",
    "    #Loop through all input sentences to predict each one of them\n",
    "    for i, sentence in enumerate(sentences_vecs):\n",
    "        #Find prediction for sentence and check if correctly predicted\n",
    "        score, _, sim = predict(sentence, encoded=True)\n",
    "        score = 1 if score >= 0.5 else 0\n",
    "        correctly_predicted += 1 if score == labels[i] else 0\n",
    "        if i != 0 and i % 500 == 0:\n",
    "            print(str(i/1000)+\"k, \",end=\"\")\n",
    "            if i != 0 and i % 2000 == 0:\n",
    "                print()\n",
    "    print()\n",
    "    #The final accuracy would be the correctly predicted over the total\n",
    "    return correctly_predicted / sentences_vecs.shape[0]"
   ]
  },
  {
   "cell_type": "code",
   "execution_count": 59,
   "metadata": {},
   "outputs": [
    {
     "name": "stdout",
     "output_type": "stream",
     "text": [
      "0.5k1.0k1.5k2.0k\n",
      "2.5k3.0k3.5k\n"
     ]
    },
    {
     "data": {
      "text/plain": [
       "0.56075"
      ]
     },
     "execution_count": 59,
     "metadata": {},
     "output_type": "execute_result"
    }
   ],
   "source": [
    "test_accuracy(input_sequences_test, labels_test)"
   ]
  },
  {
   "cell_type": "markdown",
   "metadata": {},
   "source": [
    "To efficiently compute pairwise distances among data points, we will convert the SFrame into a 2D Numpy array. First import the numpy library and then copy and paste `get_numpy_data()` from the second notebook of Week 2."
   ]
  },
  {
   "cell_type": "code",
   "execution_count": null,
   "metadata": {},
   "outputs": [],
   "source": [
    "import numpy as np # note this allows us to refer to numpy as np instead"
   ]
  },
  {
   "cell_type": "code",
   "execution_count": null,
   "metadata": {},
   "outputs": [],
   "source": [
    "def get_numpy_data(data_sframe, features, output):\n",
    "    data_sframe['constant'] = 1 # this is how you add a constant column to an SFrame\n",
    "    # add the column 'constant' to the front of the features list so that we can extract it along with the others:\n",
    "    features = ['constant'] + features # this is how you combine two lists\n",
    "    # select the columns of data_SFrame given by the features list into the SFrame features_sframe (now including constant):\n",
    "    features_sframe = data_sframe[features]\n",
    "    # the following line will convert the features_SFrame into a numpy matrix:\n",
    "    feature_matrix = features_sframe.to_numpy()\n",
    "    # assign the column of data_sframe associated with the output to the SArray output_sarray\n",
    "    output_sarray = data_sframe[output]\n",
    "    # the following will convert the SArray into a numpy array by first converting it to a list\n",
    "    output_array = output_sarray.to_numpy()\n",
    "    return(feature_matrix, output_array)"
   ]
  },
  {
   "cell_type": "markdown",
   "metadata": {},
   "source": [
    "We will also need the `normalize_features()` function from Week 5 that normalizes all feature columns to unit norm. Paste this function below."
   ]
  },
  {
   "cell_type": "code",
   "execution_count": null,
   "metadata": {},
   "outputs": [],
   "source": [
    "def normalize_features(feature_matrix):\n",
    "    norms = np.linalg.norm(feature_matrix, axis=0) # gives [norm(X[:,0]), norm(X[:,1]), norm(X[:,2])]\n",
    "    normalized_features = feature_matrix / norms\n",
    "    return (normalized_features, norms)"
   ]
  },
  {
   "cell_type": "markdown",
   "metadata": {},
   "source": [
    "# Split data into training, test, and validation sets"
   ]
  },
  {
   "cell_type": "code",
   "execution_count": null,
   "metadata": {},
   "outputs": [],
   "source": [
    "(train_and_validation, test) = sales.random_split(.8, seed=1) # initial train/test split\n",
    "(train, validation) = train_and_validation.random_split(.8, seed=1) # split training set into training and validation sets"
   ]
  },
  {
   "cell_type": "markdown",
   "metadata": {},
   "source": [
    "# Extract features and normalize"
   ]
  },
  {
   "cell_type": "markdown",
   "metadata": {},
   "source": [
    "Using all of the numerical inputs listed in `feature_list`, transform the training, test, and validation SFrames into Numpy arrays:"
   ]
  },
  {
   "cell_type": "code",
   "execution_count": null,
   "metadata": {},
   "outputs": [],
   "source": [
    "feature_list = ['bedrooms',  \n",
    "                'bathrooms',  \n",
    "                'sqft_living',  \n",
    "                'sqft_lot',  \n",
    "                'floors',\n",
    "                'waterfront',  \n",
    "                'view',  \n",
    "                'condition',  \n",
    "                'grade',  \n",
    "                'sqft_above',  \n",
    "                'sqft_basement',\n",
    "                'yr_built',  \n",
    "                'yr_renovated',  \n",
    "                'lat',  \n",
    "                'long',  \n",
    "                'sqft_living15',  \n",
    "                'sqft_lot15']\n",
    "features_train, output_train = get_numpy_data(train, feature_list, 'price')\n",
    "features_test, output_test = get_numpy_data(test, feature_list, 'price')\n",
    "features_valid, output_valid = get_numpy_data(validation, feature_list, 'price')"
   ]
  },
  {
   "cell_type": "markdown",
   "metadata": {},
   "source": [
    "In computing distances, it is crucial to normalize features. Otherwise, for example, the `sqft_living` feature (typically on the order of thousands) would exert a much larger influence on distance than the `bedrooms` feature (typically on the order of ones). We divide each column of the training feature matrix by its 2-norm, so that the transformed column has unit norm.\n",
    "\n",
    "IMPORTANT: Make sure to store the norms of the features in the training set. The features in the test and validation sets must be divided by these same norms, so that the training, test, and validation sets are normalized consistently."
   ]
  },
  {
   "cell_type": "code",
   "execution_count": null,
   "metadata": {},
   "outputs": [],
   "source": [
    "features_train, norms = normalize_features(features_train) # normalize training set features (columns)\n",
    "features_test = features_test / norms # normalize test set by training set norms\n",
    "features_valid = features_valid / norms # normalize validation set by training set norms"
   ]
  },
  {
   "cell_type": "markdown",
   "metadata": {},
   "source": [
    "# Compute a single distance"
   ]
  },
  {
   "cell_type": "markdown",
   "metadata": {},
   "source": [
    "To start, let's just explore computing the \"distance\" between two given houses.  We will take our **query house** to be the first house of the test set and look at the distance between this house and the 10th house of the training set.\n",
    "\n",
    "To see the features associated with the query house, print the first row (index 0) of the test feature matrix. You should get an 18-dimensional vector whose components are between 0 and 1."
   ]
  },
  {
   "cell_type": "code",
   "execution_count": null,
   "metadata": {},
   "outputs": [],
   "source": [
    "print (features_test[0])"
   ]
  },
  {
   "cell_type": "markdown",
   "metadata": {},
   "source": [
    "Now print the 10th row (index 9) of the training feature matrix. Again, you get an 18-dimensional vector with components between 0 and 1."
   ]
  },
  {
   "cell_type": "code",
   "execution_count": null,
   "metadata": {},
   "outputs": [],
   "source": [
    "print (features_train[9])"
   ]
  },
  {
   "cell_type": "markdown",
   "metadata": {},
   "source": [
    "***QUIZ QUESTION ***\n",
    "\n",
    "What is the Euclidean distance between the query house and the 10th house of the training set? \n",
    "\n",
    "Note: Do not use the `np.linalg.norm` function; use `np.sqrt`, `np.sum`, and the power operator (`**`) instead. The latter approach is more easily adapted to computing multiple distances at once."
   ]
  },
  {
   "cell_type": "code",
   "execution_count": null,
   "metadata": {},
   "outputs": [],
   "source": [
    "dist = np.sqrt(np.sum((features_test[0]-features_train[9])**2))\n",
    "print(\"Distance = \"+str(dist))"
   ]
  },
  {
   "cell_type": "markdown",
   "metadata": {},
   "source": [
    "# Compute multiple distances"
   ]
  },
  {
   "cell_type": "markdown",
   "metadata": {},
   "source": [
    "Of course, to do nearest neighbor regression, we need to compute the distance between our query house and *all* houses in the training set.  \n",
    "\n",
    "To visualize this nearest-neighbor search, let's first compute the distance from our query house (`features_test[0]`) to the first 10 houses of the training set (`features_train[0:10]`) and then search for the nearest neighbor within this small set of houses.  Through restricting ourselves to a small set of houses to begin with, we can visually scan the list of 10 distances to verify that our code for finding the nearest neighbor is working.\n",
    "\n",
    "Write a loop to compute the Euclidean distance from the query house to each of the first 10 houses in the training set."
   ]
  },
  {
   "cell_type": "code",
   "execution_count": null,
   "metadata": {},
   "outputs": [],
   "source": [
    "test_dists = []\n",
    "for i in range(10):\n",
    "    test_dists.append(np.sqrt(np.sum((features_test[0]-features_train[i])**2)))"
   ]
  },
  {
   "cell_type": "markdown",
   "metadata": {},
   "source": [
    "*** QUIZ QUESTION ***\n",
    "\n",
    "Among the first 10 training houses, which house is the closest to the query house?"
   ]
  },
  {
   "cell_type": "code",
   "execution_count": null,
   "metadata": {},
   "outputs": [],
   "source": [
    "print(\"Closest house (index) = \"+str(test_dists.index(min(test_dists))))\n",
    "print(\"Closest distance      = \"+str(min(test_dists)))"
   ]
  },
  {
   "cell_type": "markdown",
   "metadata": {},
   "source": [
    "It is computationally inefficient to loop over computing distances to all houses in our training dataset. Fortunately, many of the Numpy functions can be **vectorized**, applying the same operation over multiple values or vectors.  We now walk through this process."
   ]
  },
  {
   "cell_type": "markdown",
   "metadata": {},
   "source": [
    "Consider the following loop that computes the element-wise difference between the features of the query house (`features_test[0]`) and the first 3 training houses (`features_train[0:3]`):"
   ]
  },
  {
   "cell_type": "code",
   "execution_count": null,
   "metadata": {
    "scrolled": false
   },
   "outputs": [],
   "source": [
    "for i in range(3):\n",
    "    print (features_train[i]-features_test[0])\n",
    "    # should print 3 vectors of length 18"
   ]
  },
  {
   "cell_type": "markdown",
   "metadata": {},
   "source": [
    "The subtraction operator (`-`) in Numpy is vectorized as follows:"
   ]
  },
  {
   "cell_type": "code",
   "execution_count": null,
   "metadata": {},
   "outputs": [],
   "source": [
    "print (features_train[0:3] - features_test[0])"
   ]
  },
  {
   "cell_type": "markdown",
   "metadata": {},
   "source": [
    "Note that the output of this vectorized operation is identical to that of the loop above, which can be verified below:"
   ]
  },
  {
   "cell_type": "code",
   "execution_count": null,
   "metadata": {},
   "outputs": [],
   "source": [
    "# verify that vectorization works\n",
    "results = features_train[0:3] - features_test[0]\n",
    "print (results[0] - (features_train[0]-features_test[0]))\n",
    "# should print all 0's if results[0] == (features_train[0]-features_test[0])\n",
    "print (results[1] - (features_train[1]-features_test[0]))\n",
    "# should print all 0's if results[1] == (features_train[1]-features_test[0])\n",
    "print (results[2] - (features_train[2]-features_test[0]))\n",
    "# should print all 0's if results[2] == (features_train[2]-features_test[0])"
   ]
  },
  {
   "cell_type": "markdown",
   "metadata": {},
   "source": [
    "Aside: it is a good idea to write tests like this cell whenever you are vectorizing a complicated operation."
   ]
  },
  {
   "cell_type": "markdown",
   "metadata": {},
   "source": [
    "# Perform 1-nearest neighbor regression\n",
    "\n",
    "Now that we have the element-wise differences, it is not too hard to compute the Euclidean distances between our query house and all of the training houses. First, write a single-line expression to define a variable `diff` such that `diff[i]` gives the element-wise difference between the features of the query house and the `i`-th training house."
   ]
  },
  {
   "cell_type": "code",
   "execution_count": null,
   "metadata": {},
   "outputs": [],
   "source": [
    "diff = features_train-features_test[0]"
   ]
  },
  {
   "cell_type": "markdown",
   "metadata": {},
   "source": [
    "To test the code above, run the following cell, which should output a value -0.0934339605842:"
   ]
  },
  {
   "cell_type": "code",
   "execution_count": null,
   "metadata": {},
   "outputs": [],
   "source": [
    "print (diff[-1].sum()) # sum of the feature differences between the query and last training house\n",
    "# should print -0.0934339605842"
   ]
  },
  {
   "cell_type": "markdown",
   "metadata": {},
   "source": [
    "The next step in computing the Euclidean distances is to take these feature-by-feature differences in `diff`, square each, and take the sum over feature indices.  That is, compute the sum of square feature differences for each training house (row in `diff`).\n",
    "\n",
    "By default, `np.sum` sums up everything in the matrix and returns a single number. To instead sum only over a row or column, we need to specifiy the `axis` parameter described in the `np.sum` [documentation](http://docs.scipy.org/doc/numpy-1.10.1/reference/generated/numpy.sum.html). In particular, `axis=1` computes the sum across each row.\n",
    "\n",
    "Below, we compute this sum of square feature differences for all training houses and verify that the output for the 16th house in the training set is equivalent to having examined only the 16th row of `diff` and computing the sum of squares on that row alone."
   ]
  },
  {
   "cell_type": "code",
   "execution_count": null,
   "metadata": {},
   "outputs": [],
   "source": [
    "print (np.sum(diff**2, axis=1)[15]) # take sum of squares across each row, and print the 16th sum\n",
    "print (np.sum(diff[15]**2)) # print the sum of squares for the 16th row -- should be same as above"
   ]
  },
  {
   "cell_type": "markdown",
   "metadata": {},
   "source": [
    "With this result in mind, write a single-line expression to compute the Euclidean distances between the query house and all houses in the training set. Assign the result to a variable `distances`.\n",
    "\n",
    "**Hint**: Do not forget to take the square root of the sum of squares."
   ]
  },
  {
   "cell_type": "code",
   "execution_count": null,
   "metadata": {},
   "outputs": [],
   "source": [
    "distances = np.sqrt(np.sum(diff**2, axis=1))"
   ]
  },
  {
   "cell_type": "markdown",
   "metadata": {},
   "source": [
    "To test the code above, run the following cell, which should output a value 0.0237082324496:"
   ]
  },
  {
   "cell_type": "code",
   "execution_count": null,
   "metadata": {},
   "outputs": [],
   "source": [
    "print (distances[100]) # Euclidean distance between the query house and the 101th training house\n",
    "# should print 0.0237082324496"
   ]
  },
  {
   "cell_type": "markdown",
   "metadata": {},
   "source": [
    "Now you are ready to write a function that computes the distances from a query house to all training houses. The function should take two parameters: (i) the matrix of training features and (ii) the single feature vector associated with the query."
   ]
  },
  {
   "cell_type": "code",
   "execution_count": null,
   "metadata": {},
   "outputs": [],
   "source": [
    "def compute_distances(features_instances, features_query):\n",
    "    diff = features_instances-features_query\n",
    "    distances = np.sqrt(np.sum(diff**2, axis=1))\n",
    "    return distances"
   ]
  },
  {
   "cell_type": "markdown",
   "metadata": {},
   "source": [
    "*** QUIZ QUESTIONS ***\n",
    "\n",
    "1.  Take the query house to be third house of the test set (`features_test[2]`).  What is the index of the house in the training set that is closest to this query house?\n",
    "2.  What is the predicted value of the query house based on 1-nearest neighbor regression?"
   ]
  },
  {
   "cell_type": "code",
   "execution_count": null,
   "metadata": {},
   "outputs": [],
   "source": [
    "distances = compute_distances(features_train, features_test[2])\n",
    "predicted_house = np.amin(distances)\n",
    "indices = np.where(distances == predicted_house)\n",
    "print(indices[0])"
   ]
  },
  {
   "cell_type": "code",
   "execution_count": null,
   "metadata": {},
   "outputs": [],
   "source": [
    "print(output_train[indices][0])"
   ]
  },
  {
   "cell_type": "markdown",
   "metadata": {},
   "source": [
    "# Perform k-nearest neighbor regression"
   ]
  },
  {
   "cell_type": "markdown",
   "metadata": {},
   "source": [
    "For k-nearest neighbors, we need to find a *set* of k houses in the training set closest to a given query house. We then make predictions based on these k nearest neighbors."
   ]
  },
  {
   "cell_type": "markdown",
   "metadata": {},
   "source": [
    "## Fetch k-nearest neighbors\n",
    "\n",
    "Using the functions above, implement a function that takes in\n",
    " * the value of k;\n",
    " * the feature matrix for the training houses; and\n",
    " * the feature vector of the query house\n",
    " \n",
    "and returns the indices of the k closest training houses. For instance, with 2-nearest neighbor, a return value of [5, 10] would indicate that the 6th and 11th training houses are closest to the query house.\n",
    "\n",
    "**Hint**: Look at the [documentation for `np.argsort`](http://docs.scipy.org/doc/numpy/reference/generated/numpy.argsort.html)."
   ]
  },
  {
   "cell_type": "code",
   "execution_count": null,
   "metadata": {},
   "outputs": [],
   "source": [
    "def k_nearest_neighbors(k, feature_train, features_query):\n",
    "    #First, compute distances for all houses\n",
    "    distances = compute_distances(feature_train, features_query)\n",
    "    #Now, return top k indices\n",
    "    neighbors = np.argsort(distances)[0:k]\n",
    "    return neighbors"
   ]
  },
  {
   "cell_type": "markdown",
   "metadata": {},
   "source": [
    "*** QUIZ QUESTION ***\n",
    "\n",
    "Take the query house to be third house of the test set (`features_test[2]`).  What are the indices of the 4 training houses closest to the query house?"
   ]
  },
  {
   "cell_type": "code",
   "execution_count": null,
   "metadata": {},
   "outputs": [],
   "source": [
    "print(k_nearest_neighbors(4, features_train, features_test[2]))"
   ]
  },
  {
   "cell_type": "markdown",
   "metadata": {},
   "source": [
    "## Make a single prediction by averaging k nearest neighbor outputs"
   ]
  },
  {
   "cell_type": "markdown",
   "metadata": {},
   "source": [
    "Now that we know how to find the k-nearest neighbors, write a function that predicts the value of a given query house. **For simplicity, take the average of the prices of the k nearest neighbors in the training set**. The function should have the following parameters:\n",
    " * the value of k;\n",
    " * the feature matrix for the training houses;\n",
    " * the output values (prices) of the training houses; and\n",
    " * the feature vector of the query house, whose price we are predicting.\n",
    " \n",
    "The function should return a predicted value of the query house.\n",
    "\n",
    "**Hint**: You can extract multiple items from a Numpy array using a list of indices. For instance, `output_train[[6, 10]]` returns the prices of the 7th and 11th training houses."
   ]
  },
  {
   "cell_type": "code",
   "execution_count": null,
   "metadata": {},
   "outputs": [],
   "source": [
    "def predict_output_of_query(k, features_train, output_train, features_query):\n",
    "    #Get indices of top k closest houses\n",
    "    indices = k_nearest_neighbors(k, features_train, features_query)\n",
    "    #Now, average prices for those indices\n",
    "    prices = output_train[indices]\n",
    "    prediction = np.sum(prices) / k\n",
    "    return prediction"
   ]
  },
  {
   "cell_type": "markdown",
   "metadata": {},
   "source": [
    "*** QUIZ QUESTION ***\n",
    "\n",
    "Again taking the query house to be third house of the test set (`features_test[2]`), predict the value of the query house using k-nearest neighbors with `k=4` and the simple averaging method described and implemented above."
   ]
  },
  {
   "cell_type": "code",
   "execution_count": null,
   "metadata": {},
   "outputs": [],
   "source": [
    "print(predict_output_of_query(4, features_train, output_train, features_test[2]))"
   ]
  },
  {
   "cell_type": "markdown",
   "metadata": {},
   "source": [
    "Compare this predicted value using 4-nearest neighbors to the predicted value using 1-nearest neighbor computed earlier."
   ]
  },
  {
   "cell_type": "markdown",
   "metadata": {},
   "source": [
    "## Make multiple predictions"
   ]
  },
  {
   "cell_type": "markdown",
   "metadata": {},
   "source": [
    "Write a function to predict the value of *each and every* house in a query set. (The query set can be any subset of the dataset, be it the test set or validation set.) The idea is to have a loop where we take each house in the query set as the query house and make a prediction for that specific house. The new function should take the following parameters:\n",
    " * the value of k;\n",
    " * the feature matrix for the training houses;\n",
    " * the output values (prices) of the training houses; and\n",
    " * the feature matrix for the query set.\n",
    " \n",
    "The function should return a set of predicted values, one for each house in the query set.\n",
    "\n",
    "**Hint**: To get the number of houses in the query set, use the `.shape` field of the query features matrix. See [the documentation](http://docs.scipy.org/doc/numpy-1.10.1/reference/generated/numpy.ndarray.shape.html)."
   ]
  },
  {
   "cell_type": "code",
   "execution_count": null,
   "metadata": {},
   "outputs": [],
   "source": [
    "def predict_output(k, features_train, output_train, features_query):\n",
    "    #Init list of predictions and loop through all houses\n",
    "    predictions = []\n",
    "    for i in range(features_query.shape[0]):\n",
    "        #Get value and append to list\n",
    "        predictions.append(predict_output_of_query(k, features_train, output_train, features_query[i]))\n",
    "    return predictions"
   ]
  },
  {
   "cell_type": "markdown",
   "metadata": {},
   "source": [
    "*** QUIZ QUESTION ***\n",
    "\n",
    "Make predictions for the first 10 houses in the test set using k-nearest neighbors with `k=10`. \n",
    "\n",
    "1. What is the index of the house in this query set that has the lowest predicted value? \n",
    "2. What is the predicted value of this house?"
   ]
  },
  {
   "cell_type": "code",
   "execution_count": null,
   "metadata": {},
   "outputs": [],
   "source": [
    "values = predict_output(10, features_train, output_train, features_test[0:10])\n",
    "min_house = np.amin(values)\n",
    "indices = np.where(values == min_house)\n",
    "print(indices[0])\n",
    "print(min_house)"
   ]
  },
  {
   "cell_type": "markdown",
   "metadata": {},
   "source": [
    "## Choosing the best value of k using a validation set"
   ]
  },
  {
   "cell_type": "markdown",
   "metadata": {},
   "source": [
    "There remains a question of choosing the value of k to use in making predictions. Here, we use a validation set to choose this value. Write a loop that does the following:\n",
    "\n",
    "* For `k` in [1, 2, ..., 15]:\n",
    "    * Makes predictions for each house in the VALIDATION set using the k-nearest neighbors from the TRAINING set.\n",
    "    * Computes the RSS for these predictions on the VALIDATION set\n",
    "    * Stores the RSS computed above in `rss_all`\n",
    "* Report which `k` produced the lowest RSS on VALIDATION set."
   ]
  },
  {
   "cell_type": "markdown",
   "metadata": {},
   "source": [
    "(Depending on your computing environment, this computation may take 10-15 minutes.)"
   ]
  },
  {
   "cell_type": "code",
   "execution_count": null,
   "metadata": {},
   "outputs": [],
   "source": [
    "all_RSS = []\n",
    "for k in range(1,16):\n",
    "    #Find prices\n",
    "    prices_validation = predict_output(k, features_train, output_train, features_valid)\n",
    "    #Compute RSS\n",
    "    all_RSS.append(np.sum(np.power(output_valid - prices_validation,2)))\n",
    "print(\"Best k value = \"+str((all_RSS.index(min(all_RSS))+1)))"
   ]
  },
  {
   "cell_type": "markdown",
   "metadata": {},
   "source": [
    "To visualize the performance as a function of `k`, plot the RSS on the VALIDATION set for each considered `k` value:"
   ]
  },
  {
   "cell_type": "code",
   "execution_count": null,
   "metadata": {},
   "outputs": [],
   "source": [
    "import matplotlib.pyplot as plt\n",
    "%matplotlib inline\n",
    "\n",
    "kvals = range(1, 16)\n",
    "plt.plot(kvals, all_RSS,'bo-')"
   ]
  },
  {
   "cell_type": "markdown",
   "metadata": {},
   "source": [
    "***QUIZ QUESTION ***\n",
    "\n",
    "What is the RSS on the TEST data using the value of k found above?  To be clear, sum over all houses in the TEST set."
   ]
  },
  {
   "cell_type": "code",
   "execution_count": null,
   "metadata": {},
   "outputs": [],
   "source": [
    "prices_test = predict_output(8, features_train, output_train, features_test)\n",
    "print(np.sum(np.power(output_test - prices_test,2)))"
   ]
  },
  {
   "cell_type": "code",
   "execution_count": null,
   "metadata": {},
   "outputs": [],
   "source": []
  }
 ],
 "metadata": {
  "kernelspec": {
   "display_name": "Python 3",
   "language": "python",
   "name": "python3"
  },
  "language_info": {
   "codemirror_mode": {
    "name": "ipython",
    "version": 3
   },
   "file_extension": ".py",
   "mimetype": "text/x-python",
   "name": "python",
   "nbconvert_exporter": "python",
   "pygments_lexer": "ipython3",
   "version": "3.7.9"
  }
 },
 "nbformat": 4,
 "nbformat_minor": 1
}
