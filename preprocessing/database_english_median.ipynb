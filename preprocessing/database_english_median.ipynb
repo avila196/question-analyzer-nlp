{
 "cells": [
  {
   "cell_type": "markdown",
   "metadata": {},
   "source": [
    "## Database creation and cleaning for English dataset\n",
    "#### The current notebook needs the \"posts_english.xml\" file inside the raw_dataset folder in order to run properly.\n",
    "The dataset is read, parsed and exported into three CSV files (train, validation and test).\n",
    "It labels the questions based on their \"score\" property between 1 (good) and 0 (bad) question. These labels are calculated given the median score of all questions considered for the training set."
   ]
  },
  {
   "cell_type": "code",
   "execution_count": null,
   "metadata": {
    "id": "-RyrEABkMI5C"
   },
   "outputs": [],
   "source": [
    "# INSTALL LIBRARIES AND DOWNLOAD FILES\n",
    "# !pip install py7zr\n",
    "# !wget https://archive.org/download/stackexchange/electronics.stackexchange.com.7z"
   ]
  },
  {
   "cell_type": "code",
   "execution_count": null,
   "metadata": {
    "id": "Dfa1etblLZux"
   },
   "outputs": [],
   "source": [
    "# UNZIP FILE\n",
    "'''\n",
    "import py7zr\n",
    "print(py7zr.__version__)\n",
    "import py7zr\n",
    "with py7zr.SevenZipFile('/content/electronics.7z', mode='r') as z:\n",
    "    z.extractall(\"/content/data\")\n",
    "'''"
   ]
  },
  {
   "cell_type": "code",
   "execution_count": 7,
   "metadata": {
    "id": "K5kNMzmR4I2a"
   },
   "outputs": [],
   "source": [
    "#Parse XML to CSV (cleaning data)\n",
    "import xml.etree.ElementTree as ET\n",
    "import csv\n",
    "import random\n",
    "import numpy as np\n",
    "import matplotlib.pyplot as plt\n",
    "import random\n",
    "import re"
   ]
  },
  {
   "cell_type": "code",
   "execution_count": 9,
   "metadata": {
    "id": "iE4x0UJ34PgX"
   },
   "outputs": [],
   "source": [
    "#Class to hold all scores in the dataset\n",
    "class Scores:\n",
    "    def __init__(self):\n",
    "        #Array of all scores\n",
    "        self.scores_list = []\n",
    "        self.median = None\n",
    "\n",
    "    def append(self, score):\n",
    "        #append question to dictionary\n",
    "        self.scores_list.append(score)\n",
    "        \n",
    "    def process(self):\n",
    "        # orders scores and find median\n",
    "        # call before trying to score something\n",
    "        self.scores_list.sort()\n",
    "        self.median = self.scores_list[len(self.scores_list)//2]\n",
    "        \n",
    "    #Function that returns the label given the num of likes\n",
    "    def get_label(self, likes):\n",
    "        return 0 if likes < self.median else 1"
   ]
  },
  {
   "cell_type": "code",
   "execution_count": 10,
   "metadata": {
    "id": "880YJ1JS4SP6"
   },
   "outputs": [
    {
     "name": "stdout",
     "output_type": "stream",
     "text": [
      "Processing scores...\n"
     ]
    }
   ],
   "source": [
    "#Create Scores objects based on all questions in the dataset\n",
    "scores = Scores()\n",
    "i = 0\n",
    "quest = True\n",
    "quest_id, ans_id = None, None\n",
    "for event, elem in ET.iterparse(\"../raw_dataset/posts_english.xml\"):\n",
    "    #Check if type is question and we're reading the next question\n",
    "    if quest and elem.tag == \"row\" and event == \"end\" and elem.attrib[\"PostTypeId\"] == \"1\":\n",
    "        year = str(elem.attrib[\"CreationDate\"]).split(\"T\")[0].split(\"-\")[0]\n",
    "        if int(year) >= 2010 and int(year) < 2020:\n",
    "            if \"AcceptedAnswerId\" in elem.attrib:\n",
    "                quest = False\n",
    "                ans_id = elem.attrib[\"AcceptedAnswerId\"]\n",
    "                quest_id = elem.attrib[\"Id\"]\n",
    "    #Check if type is answer and we're reading accepted answer of previous question\n",
    "    elif not quest and elem.tag == \"row\" and event == \"end\" and elem.attrib[\"PostTypeId\"] == \"2\" and elem.attrib[\"Id\"] == ans_id:\n",
    "        #Found the answer accepted for question\n",
    "        scores.append(int(elem.attrib[\"Score\"]))\n",
    "        i += 1\n",
    "        quest = True\n",
    "    #Clear element to release memory\n",
    "    elem.clear()\n",
    "    if i % 10000 == 0 and i > 0:\n",
    "        print(i)\n",
    "        \n",
    "print(\"Processing scores...\")\n",
    "scores.process()\n",
    "\n",
    "#for scorer in scores.values():\n",
    "#    scorer.process()\n"
   ]
  },
  {
   "cell_type": "code",
   "execution_count": 11,
   "metadata": {
    "id": "oiGFT_f24YHq"
   },
   "outputs": [
    {
     "name": "stdout",
     "output_type": "stream",
     "text": [
      "332\n",
      "test other value: 0\n",
      "test other value: 1\n"
     ]
    },
    {
     "data": {
      "image/png": "[encoded data removed]",
      "text/plain": [
       "<Figure size 432x288 with 1 Axes>"
      ]
     },
     "metadata": {
      "needs_background": "light"
     },
     "output_type": "display_data"
    }
   ],
   "source": [
    "print(i)\n",
    "print(\"test other value:\", scores.get_label(0))\n",
    "print(\"test other value:\", scores.get_label(2))\n",
    "\n",
    "plt.hist(scores.scores_list)\n",
    "plt.show()"
   ]
  },
  {
   "cell_type": "code",
   "execution_count": 5,
   "metadata": {
    "id": "XMQyI7CtgVGM"
   },
   "outputs": [
    {
     "name": "stdout",
     "output_type": "stream",
     "text": [
      "5418\n",
      "5418\n",
      "0\n",
      "97528\n",
      "5418\n",
      "5418\n"
     ]
    }
   ],
   "source": [
    "data_size = 108364\n",
    "data_split = data_size\n",
    "\n",
    "idx_val = set(random.sample(range(data_split),int(data_split*0.05)))\n",
    "idx_test = set()\n",
    "for i in range(int(data_split*0.05)):\n",
    "    n = random.randint(0, data_split-1)\n",
    "    while n in idx_val or n in idx_test:\n",
    "        n = random.randint(0, data_split-1)\n",
    "    idx_test.add(n)\n",
    "print(len(idx_test))\n",
    "print(len(idx_val))\n",
    "print(len(idx_test.intersection(idx_val)))\n",
    "z = np.zeros(data_split)\n",
    "z[list(idx_test)] = 1\n",
    "z[list(idx_val)] = 2\n",
    "print(np.count_nonzero(z == 0))\n",
    "print(np.count_nonzero(z == 1))\n",
    "print(np.count_nonzero(z == 2))"
   ]
  },
  {
   "cell_type": "code",
   "execution_count": 6,
   "metadata": {
    "id": "tpkp1ks7Gg-L"
   },
   "outputs": [
    {
     "name": "stdout",
     "output_type": "stream",
     "text": [
      "10000\n",
      "10000\n",
      "10000\n",
      "10000\n",
      "20000\n",
      "20000\n",
      "20000\n",
      "30000\n",
      "30000\n",
      "30000\n",
      "30000\n",
      "30000\n",
      "30000\n",
      "30000\n",
      "40000\n",
      "40000\n",
      "40000\n",
      "40000\n",
      "40000\n",
      "40000\n",
      "40000\n",
      "40000\n",
      "40000\n",
      "50000\n",
      "50000\n",
      "60000\n",
      "70000\n",
      "80000\n",
      "90000\n",
      "90000\n",
      "90000\n",
      "100000\n",
      "100000\n"
     ]
    }
   ],
   "source": [
    "#Parse XML to CSV (cleaning data)\n",
    "\n",
    "#Creates list of tags given the string\n",
    "def createTags(tags):\n",
    "    return \"|\".join(tags[1:-1].split(\"><\"))\n",
    "\n",
    "#Clean sentence (remove non alpha chars)\n",
    "def cleanSentence(sentence):\n",
    "    p = re.compile(r'<.*?>')\n",
    "    sentence = p.sub('', sentence) \n",
    "    sentence = ''.join([(i.lower() if i.isalpha() else \" \") for i in sentence if i.isalpha() or i == \" \" or i == \"-\"])\n",
    "    return sentence\n",
    "    \n",
    "#Opens CSV file to write parsed rows\n",
    "i, j = 0, 0\n",
    "with open('../processed_files/english_train.csv', mode='w', newline='',encoding=\"utf8\", buffering=1) as data_file:\n",
    "    with open('../processed_files/english_test.csv', mode='w', newline='',encoding=\"utf8\", buffering=1) as data_file_test:\n",
    "        with open('../processed_files/english_val.csv', mode='w', newline='',encoding=\"utf8\", buffering=1) as data_file_val:\n",
    "            #Headers for train\n",
    "            data_writer = csv.writer(data_file, delimiter=',', quotechar='\"', quoting=csv.QUOTE_MINIMAL)\n",
    "            data_writer.writerow([\"stars\",\"title\",\"tags\",\"score\",\"creation_date\"]) #write headers\n",
    "            #Headers for test\n",
    "            data_writer_test = csv.writer(data_file_test, delimiter=',', quotechar='\"', quoting=csv.QUOTE_MINIMAL)\n",
    "            data_writer_test.writerow([\"stars\",\"title\",\"tags\",\"score\",\"creation_date\"]) #write headers\n",
    "            #Headers for val\n",
    "            data_writer_val = csv.writer(data_file_val, delimiter=',', quotechar='\"', quoting=csv.QUOTE_MINIMAL)\n",
    "            data_writer_val.writerow([\"stars\",\"title\",\"tags\",\"score\",\"creation_date\"]) #write headers\n",
    "            #Loop to iterate through every element on the XML file\n",
    "            for event, elem in ET.iterparse(\"../raw_dataset/posts_english.xml\"):\n",
    "                #Write row if tag is row and post type is 1 (meaning it is a question)\n",
    "                if elem.tag == \"row\" and event == \"end\" and elem.attrib[\"PostTypeId\"] == \"1\":\n",
    "                    if i % (data_size//data_split) == 0:\n",
    "                        score = int(elem.attrib[\"Score\"])\n",
    "                        if j in idx_test:\n",
    "                            data_writer_test.writerow([scores.get_label(score),cleanSentence(elem.attrib[\"Title\"]),createTags(elem.attrib[\"Tags\"].lower()),elem.attrib[\"Score\"],elem.attrib[\"CreationDate\"],cleanSentence(elem.attrib[\"Body\"])])\n",
    "                        elif j in idx_val:\n",
    "                            data_writer_val.writerow([scores.get_label(score),cleanSentence(elem.attrib[\"Title\"]),createTags(elem.attrib[\"Tags\"].lower()),elem.attrib[\"Score\"],elem.attrib[\"CreationDate\"],cleanSentence(elem.attrib[\"Body\"])])\n",
    "                        else:\n",
    "                            data_writer.writerow([scores.get_label(score),cleanSentence(elem.attrib[\"Title\"]),createTags(elem.attrib[\"Tags\"].lower()),elem.attrib[\"Score\"],elem.attrib[\"CreationDate\"],cleanSentence(elem.attrib[\"Body\"])])  \n",
    "                        j += 1\n",
    "                    i += 1\n",
    "                elem.clear()\n",
    "                if i % 10000 == 0:\n",
    "                    print(i)\n",
    "                if j == data_split:\n",
    "                    break\n"
   ]
  },
  {
   "cell_type": "code",
   "execution_count": null,
   "metadata": {
    "id": "Xg7irEE_UX8v"
   },
   "outputs": [],
   "source": [
    "#Find stars for given score\n",
    "def stars(score, ranges):\n",
    "    if score < ranges[0]:\n",
    "        return 1\n",
    "    elif score < ranges[1]:\n",
    "        return 2\n",
    "    elif score < ranges[2]:\n",
    "        return 3\n",
    "    elif score < ranges[3]:\n",
    "        return 4\n",
    "    else:\n",
    "        return 5\n",
    "\n",
    "#Create array with all scores\n",
    "scores = []\n",
    "i = 0\n",
    "for event, elem in ET.iterparse(\"Posts.xml\"):\n",
    "    #Add score if type is question\n",
    "    if elem.tag == \"row\" and event == \"end\" and elem.attrib[\"PostTypeId\"] == \"1\":\n",
    "        scores.append(int(elem.attrib[\"Score\"]))\n",
    "        i += 1\n",
    "        elem.clear()\n",
    "    if i == data_size:\n",
    "        break\n",
    "#Sort the list of scores\n",
    "scores.sort()\n",
    "l = len(scores)\n",
    "ranges = [scores[int(0.2*l)], scores[int(0.4*l)], scores[int(0.6*l)], scores[int(0.8*l)]]"
   ]
  },
  {
   "cell_type": "markdown",
   "metadata": {
    "id": "-QaxRuVxIfgL"
   },
   "source": [
    "# New section"
   ]
  }
 ],
 "metadata": {
  "colab": {
   "collapsed_sections": [],
   "name": "database_creation.ipynb",
   "provenance": [],
   "toc_visible": true
  },
  "kernelspec": {
   "display_name": "Python 3",
   "language": "python",
   "name": "python3"
  },
  "language_info": {
   "codemirror_mode": {
    "name": "ipython",
    "version": 3
   },
   "file_extension": ".py",
   "mimetype": "text/x-python",
   "name": "python",
   "nbconvert_exporter": "python",
   "pygments_lexer": "ipython3",
   "version": "3.7.9"
  }
 },
 "nbformat": 4,
 "nbformat_minor": 1
}
